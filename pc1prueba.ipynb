{
 "cells": [
  {
   "cell_type": "markdown",
   "id": "00c3162b",
   "metadata": {},
   "source": [
    "# PRIMERA PRÁCTICA CALIFICADA DE LP2\n",
    "\n",
    "   ### Marcello Eduardo Anchante Fernandez - 20211804\n"
   ]
  },
  {
   "cell_type": "markdown",
   "id": "bf7b561d",
   "metadata": {},
   "source": [
    "# Resolución Problema 1"
   ]
  },
  {
   "cell_type": "markdown",
   "id": "34de4580",
   "metadata": {},
   "source": [
    "## What is Regression Doing After All?\n",
    "As we’ve seen so far, regression does an amazing job at controlling for additional variables when we do a test vs control comparison. If we have independence,  $(Y_0,Y_1) ⊥ T|X$  , then regression can identify the ATE by controlling for X. The way regression does this is kind of magical. To get some intuition about it, let’s remember the case when all variables X are dummy variables. If that is the case, regression partitions the data into the dummy cells and computes the mean difference between test and control. This difference in means keeps the Xs constant, since we are doing it in a fixed cell of X dummy. It is as if we were doing $E[Y|T = 1] - E[Y|T = 0]|X = x$, where $x$ is a dummy cell (all dummies set to 1, for example). Regression then combines the estimate in each of the cells to produce a final ATE. The way it does this is by applying weights to the cell proportional to the variance of the treatment on that group.\n",
    "\n",
    "\n",
    "Code:"
   ]
  },
  {
   "cell_type": "code",
   "execution_count": 126,
   "id": "3adc78ac",
   "metadata": {},
   "outputs": [],
   "source": [
    "import warnings\n",
    "warnings.filterwarnings('ignore')\n",
    "import pandas as pd\n",
    "import numpy as np\n",
    "from matplotlib import style\n",
    "from matplotlib import pyplot as plt\n",
    "import statsmodels.formula.api as smf\n",
    "\n",
    "%matplotlib inline\n",
    "\n",
    "style.use(\"fivethirtyeight\")"
   ]
  },
  {
   "cell_type": "markdown",
   "id": "f83ac810",
   "metadata": {},
   "source": [
    "To give an example, let’s suppose I’m trying to estimate the effect of a drug and I have 6 men and 4 women. My response variable is days hospitalised and I hope my drug can lower that. On men, the true causal effect is -3, so the drug lowers the stay period by 3 days. On women, it is -2. To make matters more interesting, men are much more affected by this illness and stay longer at the hospital. They also get much more of the drug. Only 1 out of the 6 men does not get the drug. On the other hand, women are more resistant to this illness, so they stay less at the hospital. 50% of the women get the drug."
   ]
  },
  {
   "cell_type": "code",
   "execution_count": 129,
   "id": "d012de08",
   "metadata": {},
   "outputs": [],
   "source": [
    "drug_example = pd.DataFrame(dict(\n",
    "    sex= [\"M\",\"M\",\"M\",\"M\",\"M\",\"M\", \"W\",\"W\",\"W\",\"W\"],\n",
    "    drug=[1,1,1,1,1,0,  1,0,1,0],\n",
    "    days=[5,5,5,5,5,8,  2,4,2,4]\n",
    "))"
   ]
  },
  {
   "cell_type": "markdown",
   "id": "5ed6a980",
   "metadata": {},
   "source": [
    "Note that simple comparison of treatment and control yields a negatively biased effect, that is, the drug seems less effective than it truly is. This is expected, since we’ve omitted the sex confounder. In this case, the estimated ATE is smaller than the true one because men get more of the drug and are more affected by the illness."
   ]
  },
  {
   "cell_type": "code",
   "execution_count": 12,
   "id": "01955998",
   "metadata": {},
   "outputs": [
    {
     "data": {
      "text/plain": [
       "-1.1904761904761898"
      ]
     },
     "execution_count": 12,
     "metadata": {},
     "output_type": "execute_result"
    }
   ],
   "source": [
    "drug_example.query(\"drug==1\")[\"days\"].mean() - drug_example.query(\"drug==0\")[\"days\"].mean()"
   ]
  },
  {
   "cell_type": "markdown",
   "id": "60509e4c",
   "metadata": {},
   "source": [
    "Since the true effect for man is -3 and the true effect for woman is -2, the ATE should be \n",
    "\n",
    "$ATE = \\frac{(-3*6)+(-2*4)}{10} = -2.6$\n",
    "\n",
    "This estimate is done by 1) partitioning the data into confounder cells, in this case, man and women, 2) estimating the effect on each cell and 3) combining the estimate with a weighted average, where the weight is the sample size of the cell or covariate group. If we had exactly the same size of man and woman in the data, the ATE estimate would be right in the middle of the ATE of the 2 groups, -2.5. Since there are more men than women in our dataset, the ATE estimate is a little bit closer to the man’s ATE. This is called a non-parametric estimate, since it places no assumption on how the data was generated.\n",
    "\n",
    "If we control for sex using regression, we will add the assumption of linearity. Regression will also partition the data into man and woman and estimate the effect on both of these groups. So far, so good. However, when it comes to combining the effect on each group, it does not weigh them by the sample size. Instead, regression uses weights that are proportional to the variance of the treatment in that group. In our case, the variance of the treatment in men is smaller than in women, since only one man is in the control group. To be exact, the variance of T for man is $0.139 = 1/6 * (1-1/6)$ and for women is $0.25 = 2/4 * (1 - 2/4)$. So regression will give a higher weight to women in our example and the ATE will be a bit closer to the women’s ATE of -2."
   ]
  },
  {
   "cell_type": "code",
   "execution_count": 13,
   "id": "9e70b7bb",
   "metadata": {},
   "outputs": [
    {
     "data": {
      "text/html": [
       "<table class=\"simpletable\">\n",
       "<tr>\n",
       "       <td></td>          <th>coef</th>     <th>std err</th>      <th>t</th>      <th>P>|t|</th>  <th>[0.025</th>    <th>0.975]</th>  \n",
       "</tr>\n",
       "<tr>\n",
       "  <th>Intercept</th>   <td>    7.5455</td> <td>    0.188</td> <td>   40.093</td> <td> 0.000</td> <td>    7.100</td> <td>    7.990</td>\n",
       "</tr>\n",
       "<tr>\n",
       "  <th>C(sex)[T.W]</th> <td>   -3.3182</td> <td>    0.176</td> <td>  -18.849</td> <td> 0.000</td> <td>   -3.734</td> <td>   -2.902</td>\n",
       "</tr>\n",
       "<tr>\n",
       "  <th>drug</th>        <td>   -2.4545</td> <td>    0.188</td> <td>  -13.042</td> <td> 0.000</td> <td>   -2.900</td> <td>   -2.010</td>\n",
       "</tr>\n",
       "</table>"
      ],
      "text/plain": [
       "<class 'statsmodels.iolib.table.SimpleTable'>"
      ]
     },
     "execution_count": 13,
     "metadata": {},
     "output_type": "execute_result"
    }
   ],
   "source": [
    "smf.ols('days ~ drug + C(sex)', data=drug_example).fit().summary().tables[1]"
   ]
  },
  {
   "cell_type": "markdown",
   "id": "f93c1830",
   "metadata": {},
   "source": [
    "This result is more intuitive with dummy variables, but, in its own weird way, regression also keeps continuous variables constant while estimating the effect. Also with continuous variables, the ATE will point in the direction where covariates have more variance.\n",
    "\n",
    "So we’ve seen that regression has its idiosyncrasies. It is linear, parametric, likes high variance features… This can be good or bad, depending on the context. Because of this, it’s important to be aware of other techniques we can use to control for confounders. Not only are they an extra tool in your causal tool belt, but understanding different ways to deal with confounding expands our understanding of the problem. For this reason, I present you now the Subclassification Estimator!"
   ]
  },
  {
   "cell_type": "markdown",
   "id": "5a878288",
   "metadata": {},
   "source": [
    "# Resolución Problema 2"
   ]
  },
  {
   "cell_type": "markdown",
   "id": "872e7bea",
   "metadata": {},
   "source": [
    "$$ f(x) =\n",
    "\\begin{cases}\n",
    "\\sum_{i=x}^{y} (i-2)^3 &,\\, \\text{if }x\\leq y ,\\\\\n",
    "\\sum_{i=y}^{x} (i+3)^2&,\\, \\text{if }y<x\n",
    "\\end{cases}  $$"
   ]
  },
  {
   "cell_type": "code",
   "execution_count": 138,
   "id": "647bf34d",
   "metadata": {},
   "outputs": [],
   "source": [
    "def Funcion(x,y):\n",
    "    if x <= y:\n",
    "        i=x\n",
    "        sum=0\n",
    "        while i <= y:\n",
    "            sum=(i-2)**3 + sum\n",
    "            i = i+1\n",
    "    if x > y:\n",
    "        i=y\n",
    "        sum=0\n",
    "        while i <= x:\n",
    "            sum=(i+3)**2 + sum\n",
    "            i=i+1\n",
    "    if sum < -10:\n",
    "        print('El valor es Pequeño')\n",
    "    if sum > 10:\n",
    "        print('El valor es Grande')\n",
    "    if -10 <= sum <= 10:\n",
    "        print('El valor es Mediano')\n",
    "    return print('El valor es',sum)\n",
    "\n"
   ]
  },
  {
   "cell_type": "markdown",
   "id": "d8f7aca8",
   "metadata": {},
   "source": [
    "\n",
    "\n",
    "Ejemplo 1:\n",
    "\n",
    "Se asignan los valores $x = 1$ y $y = 5$."
   ]
  },
  {
   "cell_type": "code",
   "execution_count": 142,
   "id": "ea6b700c",
   "metadata": {},
   "outputs": [
    {
     "name": "stdout",
     "output_type": "stream",
     "text": [
      "El valor es Grande\n",
      "El valor es 35\n"
     ]
    }
   ],
   "source": [
    "Funcion(1,5)"
   ]
  },
  {
   "cell_type": "markdown",
   "id": "b37f5706",
   "metadata": {},
   "source": [
    "Ejemplo 2:\n",
    "\n",
    "Se asignan los valores $x = 4$ y $y = 2$."
   ]
  },
  {
   "cell_type": "code",
   "execution_count": 140,
   "id": "81257131",
   "metadata": {},
   "outputs": [
    {
     "name": "stdout",
     "output_type": "stream",
     "text": [
      "El valor es Grande\n",
      "El valor es 110\n"
     ]
    }
   ],
   "source": [
    "Funcion(4,2)"
   ]
  },
  {
   "cell_type": "markdown",
   "id": "1881f2ba",
   "metadata": {},
   "source": [
    "# Resolución Problema 3"
   ]
  },
  {
   "cell_type": "code",
   "execution_count": 5,
   "id": "543927a3",
   "metadata": {},
   "outputs": [
    {
     "data": {
      "text/html": [
       "<div>\n",
       "<style scoped>\n",
       "    .dataframe tbody tr th:only-of-type {\n",
       "        vertical-align: middle;\n",
       "    }\n",
       "\n",
       "    .dataframe tbody tr th {\n",
       "        vertical-align: top;\n",
       "    }\n",
       "\n",
       "    .dataframe thead th {\n",
       "        text-align: right;\n",
       "    }\n",
       "</style>\n",
       "<table border=\"1\" class=\"dataframe\">\n",
       "  <thead>\n",
       "    <tr style=\"text-align: right;\">\n",
       "      <th></th>\n",
       "      <th>gender</th>\n",
       "      <th>race/ethnicity</th>\n",
       "      <th>parental level of education</th>\n",
       "      <th>lunch</th>\n",
       "      <th>test preparation course</th>\n",
       "      <th>math score</th>\n",
       "      <th>reading score</th>\n",
       "      <th>writing score</th>\n",
       "    </tr>\n",
       "  </thead>\n",
       "  <tbody>\n",
       "    <tr>\n",
       "      <th>0</th>\n",
       "      <td>female</td>\n",
       "      <td>group B</td>\n",
       "      <td>bachelor's degree</td>\n",
       "      <td>standard</td>\n",
       "      <td>none</td>\n",
       "      <td>72</td>\n",
       "      <td>72</td>\n",
       "      <td>74</td>\n",
       "    </tr>\n",
       "    <tr>\n",
       "      <th>1</th>\n",
       "      <td>female</td>\n",
       "      <td>group C</td>\n",
       "      <td>some college</td>\n",
       "      <td>standard</td>\n",
       "      <td>completed</td>\n",
       "      <td>69</td>\n",
       "      <td>90</td>\n",
       "      <td>88</td>\n",
       "    </tr>\n",
       "    <tr>\n",
       "      <th>2</th>\n",
       "      <td>female</td>\n",
       "      <td>group B</td>\n",
       "      <td>master's degree</td>\n",
       "      <td>standard</td>\n",
       "      <td>none</td>\n",
       "      <td>90</td>\n",
       "      <td>95</td>\n",
       "      <td>93</td>\n",
       "    </tr>\n",
       "    <tr>\n",
       "      <th>3</th>\n",
       "      <td>male</td>\n",
       "      <td>group A</td>\n",
       "      <td>associate's degree</td>\n",
       "      <td>free/reduced</td>\n",
       "      <td>none</td>\n",
       "      <td>47</td>\n",
       "      <td>57</td>\n",
       "      <td>44</td>\n",
       "    </tr>\n",
       "    <tr>\n",
       "      <th>4</th>\n",
       "      <td>male</td>\n",
       "      <td>group C</td>\n",
       "      <td>some college</td>\n",
       "      <td>standard</td>\n",
       "      <td>none</td>\n",
       "      <td>76</td>\n",
       "      <td>78</td>\n",
       "      <td>75</td>\n",
       "    </tr>\n",
       "    <tr>\n",
       "      <th>...</th>\n",
       "      <td>...</td>\n",
       "      <td>...</td>\n",
       "      <td>...</td>\n",
       "      <td>...</td>\n",
       "      <td>...</td>\n",
       "      <td>...</td>\n",
       "      <td>...</td>\n",
       "      <td>...</td>\n",
       "    </tr>\n",
       "    <tr>\n",
       "      <th>995</th>\n",
       "      <td>female</td>\n",
       "      <td>group E</td>\n",
       "      <td>master's degree</td>\n",
       "      <td>standard</td>\n",
       "      <td>completed</td>\n",
       "      <td>88</td>\n",
       "      <td>99</td>\n",
       "      <td>95</td>\n",
       "    </tr>\n",
       "    <tr>\n",
       "      <th>996</th>\n",
       "      <td>male</td>\n",
       "      <td>group C</td>\n",
       "      <td>high school</td>\n",
       "      <td>free/reduced</td>\n",
       "      <td>none</td>\n",
       "      <td>62</td>\n",
       "      <td>55</td>\n",
       "      <td>55</td>\n",
       "    </tr>\n",
       "    <tr>\n",
       "      <th>997</th>\n",
       "      <td>female</td>\n",
       "      <td>group C</td>\n",
       "      <td>high school</td>\n",
       "      <td>free/reduced</td>\n",
       "      <td>completed</td>\n",
       "      <td>59</td>\n",
       "      <td>71</td>\n",
       "      <td>65</td>\n",
       "    </tr>\n",
       "    <tr>\n",
       "      <th>998</th>\n",
       "      <td>female</td>\n",
       "      <td>group D</td>\n",
       "      <td>some college</td>\n",
       "      <td>standard</td>\n",
       "      <td>completed</td>\n",
       "      <td>68</td>\n",
       "      <td>78</td>\n",
       "      <td>77</td>\n",
       "    </tr>\n",
       "    <tr>\n",
       "      <th>999</th>\n",
       "      <td>female</td>\n",
       "      <td>group D</td>\n",
       "      <td>some college</td>\n",
       "      <td>free/reduced</td>\n",
       "      <td>none</td>\n",
       "      <td>77</td>\n",
       "      <td>86</td>\n",
       "      <td>86</td>\n",
       "    </tr>\n",
       "  </tbody>\n",
       "</table>\n",
       "<p>1000 rows × 8 columns</p>\n",
       "</div>"
      ],
      "text/plain": [
       "     gender race/ethnicity parental level of education         lunch  \\\n",
       "0    female        group B           bachelor's degree      standard   \n",
       "1    female        group C                some college      standard   \n",
       "2    female        group B             master's degree      standard   \n",
       "3      male        group A          associate's degree  free/reduced   \n",
       "4      male        group C                some college      standard   \n",
       "..      ...            ...                         ...           ...   \n",
       "995  female        group E             master's degree      standard   \n",
       "996    male        group C                 high school  free/reduced   \n",
       "997  female        group C                 high school  free/reduced   \n",
       "998  female        group D                some college      standard   \n",
       "999  female        group D                some college  free/reduced   \n",
       "\n",
       "    test preparation course  math score  reading score  writing score  \n",
       "0                      none          72             72             74  \n",
       "1                 completed          69             90             88  \n",
       "2                      none          90             95             93  \n",
       "3                      none          47             57             44  \n",
       "4                      none          76             78             75  \n",
       "..                      ...         ...            ...            ...  \n",
       "995               completed          88             99             95  \n",
       "996                    none          62             55             55  \n",
       "997               completed          59             71             65  \n",
       "998               completed          68             78             77  \n",
       "999                    none          77             86             86  \n",
       "\n",
       "[1000 rows x 8 columns]"
      ]
     },
     "execution_count": 5,
     "metadata": {},
     "output_type": "execute_result"
    }
   ],
   "source": [
    "import pandas as pd\n",
    "\n",
    "dt = pd.read_csv('stud_perf_exam.csv')\n",
    "dt"
   ]
  },
  {
   "cell_type": "markdown",
   "id": "33ab911e",
   "metadata": {},
   "source": [
    "#### A) Reportar las estadísticas descriptivas de las puntuaciones (math, reading y writing)\n"
   ]
  },
  {
   "cell_type": "code",
   "execution_count": 6,
   "id": "323cbf78",
   "metadata": {},
   "outputs": [
    {
     "data": {
      "text/html": [
       "<div>\n",
       "<style scoped>\n",
       "    .dataframe tbody tr th:only-of-type {\n",
       "        vertical-align: middle;\n",
       "    }\n",
       "\n",
       "    .dataframe tbody tr th {\n",
       "        vertical-align: top;\n",
       "    }\n",
       "\n",
       "    .dataframe thead th {\n",
       "        text-align: right;\n",
       "    }\n",
       "</style>\n",
       "<table border=\"1\" class=\"dataframe\">\n",
       "  <thead>\n",
       "    <tr style=\"text-align: right;\">\n",
       "      <th></th>\n",
       "      <th>math score</th>\n",
       "      <th>reading score</th>\n",
       "      <th>writing score</th>\n",
       "    </tr>\n",
       "  </thead>\n",
       "  <tbody>\n",
       "    <tr>\n",
       "      <th>count</th>\n",
       "      <td>1000.00000</td>\n",
       "      <td>1000.000000</td>\n",
       "      <td>1000.000000</td>\n",
       "    </tr>\n",
       "    <tr>\n",
       "      <th>mean</th>\n",
       "      <td>66.08900</td>\n",
       "      <td>69.169000</td>\n",
       "      <td>68.054000</td>\n",
       "    </tr>\n",
       "    <tr>\n",
       "      <th>std</th>\n",
       "      <td>15.16308</td>\n",
       "      <td>14.600192</td>\n",
       "      <td>15.195657</td>\n",
       "    </tr>\n",
       "    <tr>\n",
       "      <th>min</th>\n",
       "      <td>0.00000</td>\n",
       "      <td>17.000000</td>\n",
       "      <td>10.000000</td>\n",
       "    </tr>\n",
       "    <tr>\n",
       "      <th>25%</th>\n",
       "      <td>57.00000</td>\n",
       "      <td>59.000000</td>\n",
       "      <td>57.750000</td>\n",
       "    </tr>\n",
       "    <tr>\n",
       "      <th>50%</th>\n",
       "      <td>66.00000</td>\n",
       "      <td>70.000000</td>\n",
       "      <td>69.000000</td>\n",
       "    </tr>\n",
       "    <tr>\n",
       "      <th>75%</th>\n",
       "      <td>77.00000</td>\n",
       "      <td>79.000000</td>\n",
       "      <td>79.000000</td>\n",
       "    </tr>\n",
       "    <tr>\n",
       "      <th>max</th>\n",
       "      <td>100.00000</td>\n",
       "      <td>100.000000</td>\n",
       "      <td>100.000000</td>\n",
       "    </tr>\n",
       "  </tbody>\n",
       "</table>\n",
       "</div>"
      ],
      "text/plain": [
       "       math score  reading score  writing score\n",
       "count  1000.00000    1000.000000    1000.000000\n",
       "mean     66.08900      69.169000      68.054000\n",
       "std      15.16308      14.600192      15.195657\n",
       "min       0.00000      17.000000      10.000000\n",
       "25%      57.00000      59.000000      57.750000\n",
       "50%      66.00000      70.000000      69.000000\n",
       "75%      77.00000      79.000000      79.000000\n",
       "max     100.00000     100.000000     100.000000"
      ]
     },
     "execution_count": 6,
     "metadata": {},
     "output_type": "execute_result"
    }
   ],
   "source": [
    "dt.loc[:,['math score','reading score','writing score']].describe()"
   ]
  },
  {
   "cell_type": "markdown",
   "id": "589a2273",
   "metadata": {},
   "source": [
    "#### B) ¿Cuál de las puntuaciones math, reading o witing tiene mayor rango (máximo-mínimo)?"
   ]
  },
  {
   "cell_type": "markdown",
   "id": "952230ef",
   "metadata": {},
   "source": [
    "###### Rango de Math Score"
   ]
  },
  {
   "cell_type": "code",
   "execution_count": 7,
   "id": "d91d3aee",
   "metadata": {},
   "outputs": [
    {
     "data": {
      "text/plain": [
       "100"
      ]
     },
     "execution_count": 7,
     "metadata": {},
     "output_type": "execute_result"
    }
   ],
   "source": [
    "rmath = dt.loc[:,'math score'].max()-dt.loc[:,'math score'].min()\n",
    "rmath"
   ]
  },
  {
   "cell_type": "markdown",
   "id": "5e383435",
   "metadata": {},
   "source": [
    "###### Rango de Reading Score"
   ]
  },
  {
   "cell_type": "code",
   "execution_count": 63,
   "id": "7eb78c2d",
   "metadata": {},
   "outputs": [
    {
     "data": {
      "text/plain": [
       "83"
      ]
     },
     "execution_count": 63,
     "metadata": {},
     "output_type": "execute_result"
    }
   ],
   "source": [
    "rreading=dt.loc[:,'reading score'].max()-dt.loc[:,'reading score'].min()\n",
    "rreading"
   ]
  },
  {
   "cell_type": "markdown",
   "id": "ae368503",
   "metadata": {},
   "source": [
    "###### Rango de Writing Score"
   ]
  },
  {
   "cell_type": "code",
   "execution_count": 64,
   "id": "c09a1b5b",
   "metadata": {},
   "outputs": [
    {
     "data": {
      "text/plain": [
       "90"
      ]
     },
     "execution_count": 64,
     "metadata": {},
     "output_type": "execute_result"
    }
   ],
   "source": [
    "rwriting=dt.loc[:,'writing score'].max()-dt.loc[:,'writing score'].min()\n",
    "rwriting"
   ]
  },
  {
   "cell_type": "markdown",
   "id": "11d45cc1",
   "metadata": {},
   "source": [
    "##### Máximo de rango de las tres categorías"
   ]
  },
  {
   "cell_type": "code",
   "execution_count": 67,
   "id": "31244ab2",
   "metadata": {},
   "outputs": [
    {
     "data": {
      "text/plain": [
       "100"
      ]
     },
     "execution_count": 67,
     "metadata": {},
     "output_type": "execute_result"
    }
   ],
   "source": [
    "max(rmath,rreading,rwriting)"
   ]
  },
  {
   "cell_type": "markdown",
   "id": "08c0ff55",
   "metadata": {},
   "source": [
    "#### C) ¿Cuántos valores diferentes de race/ethnicity se observa en los estudiantes masculinos y cuántos en los femeninos?"
   ]
  },
  {
   "cell_type": "code",
   "execution_count": 8,
   "id": "3643798c",
   "metadata": {},
   "outputs": [
    {
     "name": "stdout",
     "output_type": "stream",
     "text": [
      "En el caso de los estudiantes masculinos, se observa 5 valores diferentes\n",
      "En el caso de los estudiantes femeninos, se observa 5 valores diferentes\n"
     ]
    }
   ],
   "source": [
    "dt1 = dt.loc[:,['gender','race/ethnicity']]\n",
    "dt1\n",
    "\n",
    "dt1.loc[dt1['gender']=='male']['race/ethnicity'].unique()\n",
    "print('En el caso de los estudiantes masculinos, se observa',len(dt1.loc[dt1['gender']=='male']['race/ethnicity'].unique()),'valores diferentes')\n",
    "\n",
    "dt1.loc[dt1['gender']=='female']['race/ethnicity'].unique()\n",
    "print('En el caso de los estudiantes femeninos, se observa',len(dt1.loc[dt1['gender']=='male']['race/ethnicity'].unique()),'valores diferentes')\n"
   ]
  },
  {
   "cell_type": "markdown",
   "id": "989f1038",
   "metadata": {},
   "source": [
    "##### D) El porcentaje de estudiantes con puntajes por encima de la media de cada área (math, reading y witing) de acuerdo al nivel educativo de los padres"
   ]
  },
  {
   "cell_type": "code",
   "execution_count": 82,
   "id": "605b6043",
   "metadata": {},
   "outputs": [
    {
     "data": {
      "text/html": [
       "<div>\n",
       "<style scoped>\n",
       "    .dataframe tbody tr th:only-of-type {\n",
       "        vertical-align: middle;\n",
       "    }\n",
       "\n",
       "    .dataframe tbody tr th {\n",
       "        vertical-align: top;\n",
       "    }\n",
       "\n",
       "    .dataframe thead th {\n",
       "        text-align: right;\n",
       "    }\n",
       "</style>\n",
       "<table border=\"1\" class=\"dataframe\">\n",
       "  <thead>\n",
       "    <tr style=\"text-align: right;\">\n",
       "      <th></th>\n",
       "      <th>math score</th>\n",
       "      <th>reading score</th>\n",
       "      <th>writing score</th>\n",
       "      <th>above_math_mean</th>\n",
       "      <th>above_reading_mean</th>\n",
       "      <th>above_writing_mean</th>\n",
       "    </tr>\n",
       "    <tr>\n",
       "      <th>parental level of education</th>\n",
       "      <th></th>\n",
       "      <th></th>\n",
       "      <th></th>\n",
       "      <th></th>\n",
       "      <th></th>\n",
       "      <th></th>\n",
       "    </tr>\n",
       "  </thead>\n",
       "  <tbody>\n",
       "    <tr>\n",
       "      <th>associate's degree</th>\n",
       "      <td>6788.288288</td>\n",
       "      <td>7092.792793</td>\n",
       "      <td>6989.639640</td>\n",
       "      <td>50.900901</td>\n",
       "      <td>56.756757</td>\n",
       "      <td>55.405405</td>\n",
       "    </tr>\n",
       "    <tr>\n",
       "      <th>bachelor's degree</th>\n",
       "      <td>6938.983051</td>\n",
       "      <td>7300.000000</td>\n",
       "      <td>7338.135593</td>\n",
       "      <td>55.932203</td>\n",
       "      <td>61.016949</td>\n",
       "      <td>64.406780</td>\n",
       "    </tr>\n",
       "    <tr>\n",
       "      <th>high school</th>\n",
       "      <td>6213.775510</td>\n",
       "      <td>6470.408163</td>\n",
       "      <td>6244.897959</td>\n",
       "      <td>40.306122</td>\n",
       "      <td>40.306122</td>\n",
       "      <td>35.204082</td>\n",
       "    </tr>\n",
       "    <tr>\n",
       "      <th>master's degree</th>\n",
       "      <td>6974.576271</td>\n",
       "      <td>7537.288136</td>\n",
       "      <td>7567.796610</td>\n",
       "      <td>59.322034</td>\n",
       "      <td>64.406780</td>\n",
       "      <td>67.796610</td>\n",
       "    </tr>\n",
       "    <tr>\n",
       "      <th>some college</th>\n",
       "      <td>6712.831858</td>\n",
       "      <td>6946.017699</td>\n",
       "      <td>6884.070796</td>\n",
       "      <td>52.654867</td>\n",
       "      <td>52.212389</td>\n",
       "      <td>54.424779</td>\n",
       "    </tr>\n",
       "    <tr>\n",
       "      <th>some high school</th>\n",
       "      <td>6349.720670</td>\n",
       "      <td>6693.854749</td>\n",
       "      <td>6488.826816</td>\n",
       "      <td>45.251397</td>\n",
       "      <td>44.692737</td>\n",
       "      <td>45.251397</td>\n",
       "    </tr>\n",
       "  </tbody>\n",
       "</table>\n",
       "</div>"
      ],
      "text/plain": [
       "                              math score  reading score  writing score  \\\n",
       "parental level of education                                              \n",
       "associate's degree           6788.288288    7092.792793    6989.639640   \n",
       "bachelor's degree            6938.983051    7300.000000    7338.135593   \n",
       "high school                  6213.775510    6470.408163    6244.897959   \n",
       "master's degree              6974.576271    7537.288136    7567.796610   \n",
       "some college                 6712.831858    6946.017699    6884.070796   \n",
       "some high school             6349.720670    6693.854749    6488.826816   \n",
       "\n",
       "                             above_math_mean  above_reading_mean  \\\n",
       "parental level of education                                        \n",
       "associate's degree                 50.900901           56.756757   \n",
       "bachelor's degree                  55.932203           61.016949   \n",
       "high school                        40.306122           40.306122   \n",
       "master's degree                    59.322034           64.406780   \n",
       "some college                       52.654867           52.212389   \n",
       "some high school                   45.251397           44.692737   \n",
       "\n",
       "                             above_writing_mean  \n",
       "parental level of education                      \n",
       "associate's degree                    55.405405  \n",
       "bachelor's degree                     64.406780  \n",
       "high school                           35.204082  \n",
       "master's degree                       67.796610  \n",
       "some college                          54.424779  \n",
       "some high school                      45.251397  "
      ]
     },
     "execution_count": 82,
     "metadata": {},
     "output_type": "execute_result"
    }
   ],
   "source": [
    "# Calcular la media de los puntajes de cada área\n",
    "math_mean = dt['math score'].mean()\n",
    "reading_mean = dt['reading score'].mean()\n",
    "writing_mean = dt['writing score'].mean()\n",
    "\n",
    "# Calcular el porcentaje de estudiantes con puntajes por encima de la media por área y por nivel de educación de los padres\n",
    "dt['above_math_mean'] = dt['math score'] > math_mean\n",
    "dt['above_reading_mean'] = dt['reading score'] > reading_mean\n",
    "dt['above_writing_mean'] = dt['writing score'] > writing_mean\n",
    "\n",
    "result = dt.groupby('parental level of education').mean()\n",
    "result\n"
   ]
  },
  {
   "cell_type": "markdown",
   "id": "0ad5d696",
   "metadata": {},
   "source": [
    "###### E) Crear una columna con etiqueta: mean_score con las puntuaciones promedio de las tres áreas (math, reading y witing)"
   ]
  },
  {
   "cell_type": "code",
   "execution_count": 84,
   "id": "5a81a090",
   "metadata": {},
   "outputs": [],
   "source": [
    "dt['math score'].mean()\n",
    "\n",
    "dtmean = dt.assign(Promedio=dt.loc[:,['math score','reading score','writing score']].mean(axis=1))"
   ]
  },
  {
   "cell_type": "markdown",
   "id": "096c8817",
   "metadata": {},
   "source": [
    "###### F) Estime un conjunto de estadísticas descriptivas que permitan explorar si el tipo de  servicio de almuerzo que reciben los estudiantes está relacionado con la puntuación medio de las tres áreas"
   ]
  },
  {
   "cell_type": "code",
   "execution_count": 92,
   "id": "de49d08e",
   "metadata": {},
   "outputs": [
    {
     "data": {
      "text/html": [
       "<div>\n",
       "<style scoped>\n",
       "    .dataframe tbody tr th:only-of-type {\n",
       "        vertical-align: middle;\n",
       "    }\n",
       "\n",
       "    .dataframe tbody tr th {\n",
       "        vertical-align: top;\n",
       "    }\n",
       "\n",
       "    .dataframe thead th {\n",
       "        text-align: right;\n",
       "    }\n",
       "</style>\n",
       "<table border=\"1\" class=\"dataframe\">\n",
       "  <thead>\n",
       "    <tr style=\"text-align: right;\">\n",
       "      <th></th>\n",
       "      <th>gender</th>\n",
       "      <th>race/ethnicity</th>\n",
       "      <th>parental level of education</th>\n",
       "      <th>lunch</th>\n",
       "      <th>test preparation course</th>\n",
       "      <th>math score</th>\n",
       "      <th>reading score</th>\n",
       "      <th>writing score</th>\n",
       "      <th>above_math_mean</th>\n",
       "      <th>above_reading_mean</th>\n",
       "      <th>above_writing_mean</th>\n",
       "      <th>Promedio</th>\n",
       "    </tr>\n",
       "  </thead>\n",
       "  <tbody>\n",
       "    <tr>\n",
       "      <th>0</th>\n",
       "      <td>female</td>\n",
       "      <td>group B</td>\n",
       "      <td>bachelor's degree</td>\n",
       "      <td>standard</td>\n",
       "      <td>none</td>\n",
       "      <td>72</td>\n",
       "      <td>72</td>\n",
       "      <td>74</td>\n",
       "      <td>True</td>\n",
       "      <td>True</td>\n",
       "      <td>True</td>\n",
       "      <td>72.666667</td>\n",
       "    </tr>\n",
       "    <tr>\n",
       "      <th>1</th>\n",
       "      <td>female</td>\n",
       "      <td>group C</td>\n",
       "      <td>some college</td>\n",
       "      <td>standard</td>\n",
       "      <td>completed</td>\n",
       "      <td>69</td>\n",
       "      <td>90</td>\n",
       "      <td>88</td>\n",
       "      <td>True</td>\n",
       "      <td>True</td>\n",
       "      <td>True</td>\n",
       "      <td>82.333333</td>\n",
       "    </tr>\n",
       "    <tr>\n",
       "      <th>2</th>\n",
       "      <td>female</td>\n",
       "      <td>group B</td>\n",
       "      <td>master's degree</td>\n",
       "      <td>standard</td>\n",
       "      <td>none</td>\n",
       "      <td>90</td>\n",
       "      <td>95</td>\n",
       "      <td>93</td>\n",
       "      <td>True</td>\n",
       "      <td>True</td>\n",
       "      <td>True</td>\n",
       "      <td>92.666667</td>\n",
       "    </tr>\n",
       "    <tr>\n",
       "      <th>3</th>\n",
       "      <td>male</td>\n",
       "      <td>group A</td>\n",
       "      <td>associate's degree</td>\n",
       "      <td>free/reduced</td>\n",
       "      <td>none</td>\n",
       "      <td>47</td>\n",
       "      <td>57</td>\n",
       "      <td>44</td>\n",
       "      <td>False</td>\n",
       "      <td>False</td>\n",
       "      <td>False</td>\n",
       "      <td>49.333333</td>\n",
       "    </tr>\n",
       "    <tr>\n",
       "      <th>4</th>\n",
       "      <td>male</td>\n",
       "      <td>group C</td>\n",
       "      <td>some college</td>\n",
       "      <td>standard</td>\n",
       "      <td>none</td>\n",
       "      <td>76</td>\n",
       "      <td>78</td>\n",
       "      <td>75</td>\n",
       "      <td>True</td>\n",
       "      <td>True</td>\n",
       "      <td>True</td>\n",
       "      <td>76.333333</td>\n",
       "    </tr>\n",
       "    <tr>\n",
       "      <th>...</th>\n",
       "      <td>...</td>\n",
       "      <td>...</td>\n",
       "      <td>...</td>\n",
       "      <td>...</td>\n",
       "      <td>...</td>\n",
       "      <td>...</td>\n",
       "      <td>...</td>\n",
       "      <td>...</td>\n",
       "      <td>...</td>\n",
       "      <td>...</td>\n",
       "      <td>...</td>\n",
       "      <td>...</td>\n",
       "    </tr>\n",
       "    <tr>\n",
       "      <th>995</th>\n",
       "      <td>female</td>\n",
       "      <td>group E</td>\n",
       "      <td>master's degree</td>\n",
       "      <td>standard</td>\n",
       "      <td>completed</td>\n",
       "      <td>88</td>\n",
       "      <td>99</td>\n",
       "      <td>95</td>\n",
       "      <td>True</td>\n",
       "      <td>True</td>\n",
       "      <td>True</td>\n",
       "      <td>94.000000</td>\n",
       "    </tr>\n",
       "    <tr>\n",
       "      <th>996</th>\n",
       "      <td>male</td>\n",
       "      <td>group C</td>\n",
       "      <td>high school</td>\n",
       "      <td>free/reduced</td>\n",
       "      <td>none</td>\n",
       "      <td>62</td>\n",
       "      <td>55</td>\n",
       "      <td>55</td>\n",
       "      <td>False</td>\n",
       "      <td>False</td>\n",
       "      <td>False</td>\n",
       "      <td>57.333333</td>\n",
       "    </tr>\n",
       "    <tr>\n",
       "      <th>997</th>\n",
       "      <td>female</td>\n",
       "      <td>group C</td>\n",
       "      <td>high school</td>\n",
       "      <td>free/reduced</td>\n",
       "      <td>completed</td>\n",
       "      <td>59</td>\n",
       "      <td>71</td>\n",
       "      <td>65</td>\n",
       "      <td>False</td>\n",
       "      <td>True</td>\n",
       "      <td>False</td>\n",
       "      <td>65.000000</td>\n",
       "    </tr>\n",
       "    <tr>\n",
       "      <th>998</th>\n",
       "      <td>female</td>\n",
       "      <td>group D</td>\n",
       "      <td>some college</td>\n",
       "      <td>standard</td>\n",
       "      <td>completed</td>\n",
       "      <td>68</td>\n",
       "      <td>78</td>\n",
       "      <td>77</td>\n",
       "      <td>True</td>\n",
       "      <td>True</td>\n",
       "      <td>True</td>\n",
       "      <td>74.333333</td>\n",
       "    </tr>\n",
       "    <tr>\n",
       "      <th>999</th>\n",
       "      <td>female</td>\n",
       "      <td>group D</td>\n",
       "      <td>some college</td>\n",
       "      <td>free/reduced</td>\n",
       "      <td>none</td>\n",
       "      <td>77</td>\n",
       "      <td>86</td>\n",
       "      <td>86</td>\n",
       "      <td>True</td>\n",
       "      <td>True</td>\n",
       "      <td>True</td>\n",
       "      <td>83.000000</td>\n",
       "    </tr>\n",
       "  </tbody>\n",
       "</table>\n",
       "<p>1000 rows × 12 columns</p>\n",
       "</div>"
      ],
      "text/plain": [
       "     gender race/ethnicity parental level of education         lunch  \\\n",
       "0    female        group B           bachelor's degree      standard   \n",
       "1    female        group C                some college      standard   \n",
       "2    female        group B             master's degree      standard   \n",
       "3      male        group A          associate's degree  free/reduced   \n",
       "4      male        group C                some college      standard   \n",
       "..      ...            ...                         ...           ...   \n",
       "995  female        group E             master's degree      standard   \n",
       "996    male        group C                 high school  free/reduced   \n",
       "997  female        group C                 high school  free/reduced   \n",
       "998  female        group D                some college      standard   \n",
       "999  female        group D                some college  free/reduced   \n",
       "\n",
       "    test preparation course  math score  reading score  writing score  \\\n",
       "0                      none          72             72             74   \n",
       "1                 completed          69             90             88   \n",
       "2                      none          90             95             93   \n",
       "3                      none          47             57             44   \n",
       "4                      none          76             78             75   \n",
       "..                      ...         ...            ...            ...   \n",
       "995               completed          88             99             95   \n",
       "996                    none          62             55             55   \n",
       "997               completed          59             71             65   \n",
       "998               completed          68             78             77   \n",
       "999                    none          77             86             86   \n",
       "\n",
       "     above_math_mean  above_reading_mean  above_writing_mean   Promedio  \n",
       "0               True                True                True  72.666667  \n",
       "1               True                True                True  82.333333  \n",
       "2               True                True                True  92.666667  \n",
       "3              False               False               False  49.333333  \n",
       "4               True                True                True  76.333333  \n",
       "..               ...                 ...                 ...        ...  \n",
       "995             True                True                True  94.000000  \n",
       "996            False               False               False  57.333333  \n",
       "997            False                True               False  65.000000  \n",
       "998             True                True                True  74.333333  \n",
       "999             True                True                True  83.000000  \n",
       "\n",
       "[1000 rows x 12 columns]"
      ]
     },
     "execution_count": 92,
     "metadata": {},
     "output_type": "execute_result"
    }
   ],
   "source": [
    "dtmean"
   ]
  },
  {
   "cell_type": "code",
   "execution_count": 125,
   "id": "44e88d8f",
   "metadata": {},
   "outputs": [
    {
     "data": {
      "text/plain": [
       "70.83720930232563"
      ]
     },
     "execution_count": 125,
     "metadata": {},
     "output_type": "execute_result"
    }
   ],
   "source": [
    "dtmean['Promedio'][dtmean['lunch'] == 'standard'].mean()\n"
   ]
  },
  {
   "cell_type": "code",
   "execution_count": 132,
   "id": "c3e0cdeb",
   "metadata": {},
   "outputs": [
    {
     "data": {
      "text/plain": [
       "62.199061032863845"
      ]
     },
     "execution_count": 132,
     "metadata": {},
     "output_type": "execute_result"
    }
   ],
   "source": [
    "dtmean['Promedio'][dtmean['lunch'] == 'free/reduced'].mean()\n"
   ]
  },
  {
   "cell_type": "markdown",
   "id": "316098dd",
   "metadata": {},
   "source": [
    "### Hasta aquí se hizo el primer comentario."
   ]
  },
  {
   "cell_type": "code",
   "execution_count": 15,
   "id": "b2785048",
   "metadata": {},
   "outputs": [
    {
     "data": {
      "text/plain": [
       "10"
      ]
     },
     "execution_count": 15,
     "metadata": {},
     "output_type": "execute_result"
    }
   ],
   "source": [
    "dts = [[2,3,4],[2,5,3]]\n",
    "dts\n",
    "\n",
    "sum(dts[1])"
   ]
  },
  {
   "cell_type": "markdown",
   "id": "c422c052",
   "metadata": {},
   "source": [
    "### ¿Cómo sumar los elementos de una matriz?"
   ]
  },
  {
   "cell_type": "code",
   "execution_count": 27,
   "id": "bc577848",
   "metadata": {},
   "outputs": [],
   "source": [
    "def suma(datos):\n",
    "    x=len(datos)\n",
    "    s=0\n",
    "    sumtotal=0\n",
    "    while s < x:\n",
    "        sumtotal = sum(datos[s]) + sumtotal\n",
    "        s = s+1\n",
    "    return sumtotal"
   ]
  },
  {
   "cell_type": "code",
   "execution_count": 28,
   "id": "431e37b4",
   "metadata": {},
   "outputs": [
    {
     "data": {
      "text/plain": [
       "19"
      ]
     },
     "execution_count": 28,
     "metadata": {},
     "output_type": "execute_result"
    }
   ],
   "source": [
    "suma(dts)"
   ]
  }
 ],
 "metadata": {
  "kernelspec": {
   "display_name": "Python 3 (ipykernel)",
   "language": "python",
   "name": "python3"
  },
  "language_info": {
   "codemirror_mode": {
    "name": "ipython",
    "version": 3
   },
   "file_extension": ".py",
   "mimetype": "text/x-python",
   "name": "python",
   "nbconvert_exporter": "python",
   "pygments_lexer": "ipython3",
   "version": "3.9.13"
  }
 },
 "nbformat": 4,
 "nbformat_minor": 5
}
